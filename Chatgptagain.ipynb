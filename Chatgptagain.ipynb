{
 "cells": [
  {
   "cell_type": "code",
   "execution_count": 4,
   "metadata": {},
   "outputs": [
    {
     "name": "stderr",
     "output_type": "stream",
     "text": [
      "Downloading (…)\"pytorch_model.bin\";: 100%|██████████| 548M/548M [01:59<00:00, 4.58MB/s]\n",
      "Generate config GenerationConfig {\n",
      "  \"bos_token_id\": 50256,\n",
      "  \"eos_token_id\": 50256,\n",
      "  \"transformers_version\": \"4.26.1\"\n",
      "}\n",
      "\n",
      "Downloading (…)neration_config.json: 100%|██████████| 124/124 [00:00<00:00, 20.9kB/s]\n",
      "loading configuration file generation_config.json from cache at aitextgen/models--gpt2/snapshots/e7da7f221d5bf496a48136c0cd264e630fe9fcc8/generation_config.json\n",
      "Generate config GenerationConfig {\n",
      "  \"_from_model_config\": true,\n",
      "  \"bos_token_id\": 50256,\n",
      "  \"eos_token_id\": 50256,\n",
      "  \"transformers_version\": \"4.26.1\"\n",
      "}\n",
      "\n"
     ]
    }
   ],
   "source": [
    "from aitextgen import aitextgen\n",
    "\n",
    "ai = aitextgen()"
   ]
  },
  {
   "cell_type": "code",
   "execution_count": 18,
   "metadata": {},
   "outputs": [
    {
     "name": "stderr",
     "output_type": "stream",
     "text": [
      "Generate config GenerationConfig {\n",
      "  \"bos_token_id\": 50256,\n",
      "  \"eos_token_id\": 50256,\n",
      "  \"transformers_version\": \"4.26.1\"\n",
      "}\n",
      "\n"
     ]
    },
    {
     "name": "stdout",
     "output_type": "stream",
     "text": [
      "\u001b[1mThe biggest conspiracy in America\u001b[0m is the creation of the Bilderberg Club,\" he said. \"It's a way of getting around the law, but the law is a pretty bad one.\"\n",
      "\n",
      "The International Business Times reported at the time that the group was formed by former Soviet leader Mikhail Gorbachev to lobby for the EU to ban the use of nuclear weapons.\n",
      "\n",
      "The Bilderberg Group is a secretive group of elite business men in the United States led by billionaire investor George Soros.\n",
      "\n",
      "In 2008, Soros and his son founded the Soros Foundation, which has funded numerous anti-globalization causes.\n",
      "\n",
      "The group also received a $10 million grant from the Clinton Foundation.\n",
      "\n",
      "\"We've been in the news a lot, so it's not good to have people saying that these are some sort of 'dirty money' groups,\" he said during the press conference. \"We don't want to be the ones that take money from the government.\"\n",
      "\n",
      "He added: \"It's clear the U.S. government has been very close to the group since it started.\"\n",
      "\n",
      "Gorbachev was a close friend of Trump.\n",
      "\n",
      "In 2016, he was the vice president of the Soviet Union's central bank.\n",
      "\n",
      "He is\n",
      "==========\n",
      "\u001b[1mThe biggest conspiracy in America\u001b[0m could be about the NSA and how to use it to obtain data.\n",
      "\n",
      "The NSA's National Security Agency has taken steps to make it easy for its users to access and view the contents of their phone records. That includes the ability to read your email, log into your Facebook account and more.\n",
      "\n",
      "But there's another kind of phone call that can be made to your phone.\n",
      "\n",
      "The NSA's surveillance of your phone is based on intercepted calls and metadata. The NSA will often ask law enforcement agencies for help from the public.\n",
      "\n",
      "We spoke with a man who said he was a senior NSA official who was in charge of the program.\n",
      "\n",
      "\"I have been in charge of the program since the beginning. I have been in charge of it for about 15 years,\" he said.\n",
      "\n",
      "You might not find out about the NSA spying on you by going to the NSA website, but one of the programs that the NSA will be using to collect data on you is called \"DELTA.\"\n",
      "\n",
      "DELTA can be used to access your cell phone and other electronic devices.\n",
      "\n",
      "It has been known for some time that the NSA is gathering data from your phone in the United States.\n",
      "\n",
      "The NSA says\n",
      "==========\n",
      "\u001b[1mThe biggest conspiracy in America\u001b[0m was that the Russians had interfered in our election,\" he said. \"The first thing they did was to release emails that showed that Hillary Clinton received thousands of calls from foreign governments that were trying to influence our election.\"\n",
      "\n",
      "But Comey's testimony also reveals an even bigger problem.\n",
      "\n",
      "Advertisement\n",
      "\n",
      "\"I never saw any evidence of this,\" Obama said. \"It was the FBI's own investigation, the FBI's own investigation. I do not understand how this could have happened. It appears to me that the Russians had very little to do with the election.\"\n",
      "\n",
      "Comey said he heard about the emails from an unnamed person in an anonymous email sent by an employee. Comey said he told the employee that the emails were real and that the email was a real \"hacking operation.\"\n",
      "\n",
      "\"I was a very critical part of the investigation,\" Comey testified. \"And I knew what they were doing, and I did not want to be a part of it, so I went out and tried to get out as much information as I could.\"\n",
      "\n",
      "Comey said he was \"pretty sure\" the information came from an anonymous person, but he asked: \"What kind of information do you want to get out of this?\"\n",
      "\n",
      "None\n"
     ]
    }
   ],
   "source": [
    "print(ai.generate(prompt=\"The biggest conspiracy in America\", n=3))"
   ]
  },
  {
   "cell_type": "code",
   "execution_count": 16,
   "metadata": {},
   "outputs": [
    {
     "name": "stderr",
     "output_type": "stream",
     "text": [
      "Generate config GenerationConfig {\n",
      "  \"bos_token_id\": 50256,\n",
      "  \"eos_token_id\": 50256,\n",
      "  \"transformers_version\": \"4.26.1\"\n",
      "}\n",
      "\n"
     ]
    },
    {
     "name": "stdout",
     "output_type": "stream",
     "text": [
      "\u001b[1mI would not use chatgpt or any other tool in my educational career.\u001b[0m I would not use that tool to evaluate the quality of my college education or to evaluate my ability to continue to do so.\n",
      "\n",
      "A college degree, of course, is a critical component in any college education. Even if you are not an undergraduated adult, you will still be studying and doing well. You have to have a high degree of knowledge to succeed at any college. It is not like you have to be a math major or a biology major to be successful at a college.\n",
      "\n",
      "I would not use chatgpt or any other tool in my educational career. I would not use that tool to evaluate the quality of my college education or to evaluate my ability to continue to do so. I would not take questions or answer questions about any subject and I would not use that tool to evaluate my ability to continue to do so.\n",
      "\n",
      "I would not use chatgpt or any other tool in my educational career. I would not use that tool to evaluate the quality of my college education or to evaluate my ability to continue to do so.\n",
      "\n",
      "The more of a commitment you have, the better you can do your studies. If you are interested in reading about college,\n",
      "None\n"
     ]
    }
   ],
   "source": [
    "print(ai.generate(prompt=\"I would not use chatgpt or any other tool in my educational career.\"))"
   ]
  }
 ],
 "metadata": {
  "kernelspec": {
   "display_name": "Python 3",
   "language": "python",
   "name": "python3"
  },
  "language_info": {
   "codemirror_mode": {
    "name": "ipython",
    "version": 3
   },
   "file_extension": ".py",
   "mimetype": "text/x-python",
   "name": "python",
   "nbconvert_exporter": "python",
   "pygments_lexer": "ipython3",
   "version": "3.9.6"
  },
  "orig_nbformat": 4,
  "vscode": {
   "interpreter": {
    "hash": "31f2aee4e71d21fbe5cf8b01ff0e069b9275f58929596ceb00d14d90e3e16cd6"
   }
  }
 },
 "nbformat": 4,
 "nbformat_minor": 2
}
